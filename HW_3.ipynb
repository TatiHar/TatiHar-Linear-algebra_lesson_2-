{
 "cells": [
  {
   "cell_type": "markdown",
   "id": "a8ab253c",
   "metadata": {},
   "source": [
    "Часть 1 "
   ]
  },
  {
   "cell_type": "markdown",
   "id": "9827e39a",
   "metadata": {},
   "source": [
    "1"
   ]
  },
  {
   "cell_type": "markdown",
   "id": "9addf35c",
   "metadata": {},
   "source": [
    "а:\n",
    "\n",
    " A*B=4*2 и 4*2\n",
    " B*A=4*2 и 4*2\n",
    "\n",
    " Произведение не определены\n",
    " \n",
    "б:\n",
    "\n",
    " A*B=2*5 и 5*3\n",
    " произведение определено, размерность полученной матрицы 2*3\n",
    " B*A=5*3 и 2*5\n",
    " произведение не определено\n",
    "\n",
    "в:\n",
    "\n",
    " A*B=8*3 и 3*8\n",
    " произведение определено, размерность полученной матрицы 8*8\n",
    " B*A=3*8 и 8*3, \n",
    " произведение определено, размерность полученной матрицы 3*3\n",
    "\n",
    "г:\n",
    "\n",
    " A*B,B*A \n",
    " оба произведение определены, размерность полученной матрицы 4*4"
   ]
  },
  {
   "cell_type": "markdown",
   "id": "240a423b",
   "metadata": {},
   "source": [
    "2"
   ]
  },
  {
   "cell_type": "code",
   "execution_count": 1,
   "id": "8a7d4170",
   "metadata": {},
   "outputs": [],
   "source": [
    "import numpy as np"
   ]
  },
  {
   "cell_type": "code",
   "execution_count": 2,
   "id": "1bbb9e5a",
   "metadata": {},
   "outputs": [
    {
     "name": "stdout",
     "output_type": "stream",
     "text": [
      "Сумма: A + B\n",
      "[[ 5 -3]\n",
      " [ 3  5]]\n",
      "Произведение: AB\n",
      "[[  4 -11]\n",
      " [ 12  -3]]\n"
     ]
    }
   ],
   "source": [
    "A = np.array([[1, -2], [3, 0]])\n",
    "B = np.array([[4, -1], [0, 5]])\n",
    "\n",
    "print(f'Сумма: A + B\\n{A + B}')\n",
    "print(f'Произведение: AB\\n{np.dot(A, B)}')"
   ]
  },
  {
   "cell_type": "markdown",
   "id": "97ef9341",
   "metadata": {},
   "source": [
    "3"
   ]
  },
  {
   "cell_type": "code",
   "execution_count": 4,
   "id": "7e0b25df",
   "metadata": {},
   "outputs": [
    {
     "name": "stdout",
     "output_type": "stream",
     "text": [
      "Линейная комбинация  3𝐴 − 2𝐵 + 4𝐶 для матриц 𝐴 = \n",
      "[[ 11  -5]\n",
      " [  9 -12]]\n",
      "\n"
     ]
    }
   ],
   "source": [
    "A = np.array([[1, 7], [3, -6]])\n",
    "B = np.array([[0, 5], [2 ,-1]])\n",
    "C = np.array([[2 ,-4],[1, 1]])\n",
    "\n",
    "B2 = -2*B\n",
    "\n",
    "print(f\"Линейная комбинация  3𝐴 − 2𝐵 + 4𝐶 для матриц 𝐴 = \\n{3*A + B2 + 4*C}\\n\")"
   ]
  },
  {
   "cell_type": "markdown",
   "id": "4d24d4ea",
   "metadata": {},
   "source": [
    "4"
   ]
  },
  {
   "cell_type": "code",
   "execution_count": 6,
   "id": "d732c30e",
   "metadata": {},
   "outputs": [
    {
     "name": "stdout",
     "output_type": "stream",
     "text": [
      "Матрица AA^T\n",
      "[[17 18 11]\n",
      " [18 29  4]\n",
      " [11  4 13]]\n",
      "Матрица A^T*A\n",
      "[[45  0]\n",
      " [ 0 14]]\n"
     ]
    }
   ],
   "source": [
    "A = np.array([[4, 1], [5, -2], [2, 3]])\n",
    "AT = A.T\n",
    "print(f'Матрица AA^T\\n{np.dot(A, AT)}')\n",
    "print(f'Матрица A^T*A\\n{np.dot(AT, A)}')"
   ]
  },
  {
   "cell_type": "markdown",
   "id": "80811831",
   "metadata": {},
   "source": [
    "Часть 2"
   ]
  },
  {
   "cell_type": "markdown",
   "id": "6a8384f4",
   "metadata": {},
   "source": [
    "1"
   ]
  },
  {
   "cell_type": "markdown",
   "id": "3f98279b",
   "metadata": {},
   "source": [
    "а)"
   ]
  },
  {
   "cell_type": "code",
   "execution_count": 7,
   "id": "7b4ca6e0",
   "metadata": {},
   "outputs": [
    {
     "name": "stdout",
     "output_type": "stream",
     "text": [
      "Определитель: sin^2(x)+cos^2(x) = 1\n"
     ]
    }
   ],
   "source": [
    "A = np.array([[4, 1], [5, -2]])\n",
    "print(f'Определитель: sin^2(x)+cos^2(x) = 1')"
   ]
  },
  {
   "cell_type": "markdown",
   "id": "10281c57",
   "metadata": {},
   "source": [
    "б)"
   ]
  },
  {
   "cell_type": "code",
   "execution_count": 8,
   "id": "a9ea3838",
   "metadata": {},
   "outputs": [
    {
     "name": "stdout",
     "output_type": "stream",
     "text": [
      "Определитель: 4 * 5 * 9 = 180\n",
      "Определитель: 180\n"
     ]
    }
   ],
   "source": [
    "B = np.array([[4, 2, 3], [0, 5, 1], [0, 0, 9]])\n",
    "print(f'Определитель: 4 * 5 * 9 = 180')\n",
    "print(f'Определитель: {np.linalg.det(B):.0f}')"
   ]
  },
  {
   "cell_type": "markdown",
   "id": "1754c03b",
   "metadata": {},
   "source": [
    "в)"
   ]
  },
  {
   "cell_type": "code",
   "execution_count": 12,
   "id": "6fc74aeb",
   "metadata": {},
   "outputs": [
    {
     "name": "stdout",
     "output_type": "stream",
     "text": [
      "Определитель: 0\n"
     ]
    }
   ],
   "source": [
    "C = np.array([[1, 2, 3], [4, 5, 6], [7, 8, 9]])\n",
    "print(f'Определитель: {np.linalg.det(C):.0f}')"
   ]
  },
  {
   "cell_type": "markdown",
   "id": "796ee78b",
   "metadata": {},
   "source": [
    "2"
   ]
  },
  {
   "cell_type": "markdown",
   "id": "be7ad44c",
   "metadata": {},
   "source": [
    "а) $det(A^{2})$ = 16;\n",
    "\n",
    "б) $det(A^{T})$ = 4;\n",
    "    из свойства определителей, определитель транспонированной матрицы равен определителю исходной\n",
    "\n",
    "в) $det(2A)$ = $det(A)$* 2^n.\n",
    "    в данном случае матрица А умножается на 2, тогда опредилитель данной матрицы умножается на 2 в степени колл-ва строк в матрице."
   ]
  },
  {
   "cell_type": "markdown",
   "id": "21e321d3",
   "metadata": {},
   "source": [
    "3"
   ]
  },
  {
   "cell_type": "markdown",
   "id": "e7739d21",
   "metadata": {},
   "source": [
    "Матрица называется сингулярной, или вырожденной, если ее определитель равен нулю. Если две строки (столбца) матрицы линейно зависимы, то определитель этой матрицы равен нулю. Т.к. первая строка = (-2) умножить на вторую строку, т.е. они линейно зависимы, то определитель = 0"
   ]
  },
  {
   "cell_type": "code",
   "execution_count": 11,
   "id": "1425f91a",
   "metadata": {},
   "outputs": [
    {
     "name": "stdout",
     "output_type": "stream",
     "text": [
      "Определитель: 0\n"
     ]
    }
   ],
   "source": [
    "J = np.array([[-2, 7, -3], [4, -14, 6], [-3, 7, 13]])\n",
    "print(f'Определитель: {np.linalg.det(J):.0f}')"
   ]
  },
  {
   "cell_type": "markdown",
   "id": "841b1365",
   "metadata": {},
   "source": [
    "4"
   ]
  },
  {
   "cell_type": "code",
   "execution_count": 13,
   "id": "e08331dd",
   "metadata": {},
   "outputs": [
    {
     "name": "stdout",
     "output_type": "stream",
     "text": [
      "[[1 2 3]\n",
      " [1 1 1]\n",
      " [2 3 4]]\n",
      "Ранг матрицы: 2\n"
     ]
    }
   ],
   "source": [
    "a = np.array([[1, 2, 3], [1, 1, 1], [2, 3, 4]])\n",
    "\n",
    "print(f'{a}')\n",
    "print(f'Ранг матрицы: {np.linalg.matrix_rank(a)}')"
   ]
  },
  {
   "cell_type": "code",
   "execution_count": 14,
   "id": "1a0b5e18",
   "metadata": {},
   "outputs": [
    {
     "name": "stdout",
     "output_type": "stream",
     "text": [
      "[[0 0 2 1]\n",
      " [0 0 2 2]\n",
      " [0 0 4 3]\n",
      " [2 3 5 6]]\n",
      "Ранг матрицы: 3\n"
     ]
    }
   ],
   "source": [
    "b = np.array([[0, 0, 2, 1], [0, 0, 2, 2], [0, 0, 4, 3], [2, 3, 5, 6]])\n",
    "\n",
    "print(f'{b}')\n",
    "print(f'Ранг матрицы: {np.linalg.matrix_rank(b)}')"
   ]
  }
 ],
 "metadata": {
  "kernelspec": {
   "display_name": "Python 3 (ipykernel)",
   "language": "python",
   "name": "python3"
  },
  "language_info": {
   "codemirror_mode": {
    "name": "ipython",
    "version": 3
   },
   "file_extension": ".py",
   "mimetype": "text/x-python",
   "name": "python",
   "nbconvert_exporter": "python",
   "pygments_lexer": "ipython3",
   "version": "3.9.7"
  }
 },
 "nbformat": 4,
 "nbformat_minor": 5
}
